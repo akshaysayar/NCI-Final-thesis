{
 "cells": [
  {
   "cell_type": "code",
   "execution_count": 21,
   "id": "380c9a17",
   "metadata": {},
   "outputs": [],
   "source": [
    "import json\n",
    "import pandas as pd\n",
    "import numpy as np"
   ]
  },
  {
   "cell_type": "code",
   "execution_count": 47,
   "id": "cbf1712f",
   "metadata": {},
   "outputs": [],
   "source": [
    "with open(\"X:\\\\Python_projects\\\\Eye tracking\\\\pupil_radius.json\") as json_file:\n",
    "    d = json.load(json_file)\n",
    "        "
   ]
  },
  {
   "cell_type": "code",
   "execution_count": 71,
   "id": "eef94b24",
   "metadata": {
    "scrolled": true
   },
   "outputs": [
    {
     "name": "stdout",
     "output_type": "stream",
     "text": [
      "Adidev_pupil_right\n",
      "Akash_pupil_right\n",
      "Alwin_pupil_right\n",
      "Amit_pupil_right\n",
      "Avinash_pupil_right\n",
      "Ayushi_pupil_right\n",
      "Devika_pupil_right\n",
      "Dimple_pupil_right\n",
      "Kaushal_pupil_right\n",
      "Keerti_pupil_right\n",
      "Koundinya_pupil_right\n",
      "Kunal_Rane_pupil_right\n",
      "Lokesh_pupil_right\n",
      "Mangesh_pupil_right\n",
      "Manish_pupil_right\n",
      "Nivetha_Suresh_pupil_right\n",
      "Pramod_pupil_right\n",
      "Pritish_pupil_right\n",
      "Rahi_pupil_right\n",
      "Rex_pupil_right\n",
      "Rhutujit_pupil_right\n",
      "Rishi_pupil_right\n",
      "Ritwik_pupil_right\n",
      "Ruchir_pupil_right\n",
      "Sakthi_Prasasd_pupil_right\n",
      "Sidhu_pupil_right\n",
      "Soumya_pupil_right\n",
      "Steve_Thomas_pupil_right\n",
      "Swetha_pupil_right\n",
      "Vignesh_pupil_right\n",
      "Vijay_Anand_pupil_right\n",
      "Yash_pupil_right\n",
      "Yogi_pupil_right\n",
      "Yuki_pupil_right\n",
      "Zahra_pupil_right\n",
      "Adidev_pupil_left\n",
      "Akash_pupil_left\n",
      "Alwin_pupil_left\n",
      "Amit_pupil_left\n",
      "Avinash_pupil_left\n",
      "Ayushi_pupil_left\n",
      "Devika_pupil_left\n",
      "Dimple_pupil_left\n",
      "Kaushal_pupil_left\n",
      "Keerti_pupil_left\n",
      "Koundinya_pupil_left\n",
      "Kunal_Rane_pupil_left\n",
      "Lokesh_pupil_left\n",
      "Mangesh_pupil_left\n",
      "Manish_pupil_left\n",
      "Nivetha_Suresh_pupil_left\n",
      "Pramod_pupil_left\n",
      "Pritish_pupil_left\n",
      "Rahi_pupil_left\n",
      "Rex_pupil_left\n",
      "Rhutujit_pupil_left\n",
      "Rishi_pupil_left\n",
      "Ritwik_pupil_left\n",
      "Ruchir_pupil_left\n",
      "Sakthi_Prasasd_pupil_left\n",
      "Sidhu_pupil_left\n",
      "Soumya_pupil_left\n",
      "Steve_Thomas_pupil_left\n",
      "Swetha_pupil_left\n",
      "Vignesh_pupil_left\n",
      "Vijay_Anand_pupil_left\n",
      "Yash_pupil_left\n",
      "Yogi_pupil_left\n",
      "Yuki_pupil_left\n",
      "Zahra_pupil_left\n",
      "Aditya_pupil_left\n",
      "Arshiya_pupil_left\n",
      "Atheesh_pupil_left\n",
      "bhasker_pupil_left\n",
      "Devendra_pupil_left\n",
      "Jake_pupil_left\n",
      "Jeff_pupil_left\n",
      "Nerav_pupil_left\n",
      "Pranav_pupil_left\n",
      "Prashant_pupil_left\n",
      "Rhonda_pupil_left\n",
      "Sufiya_pupil_left\n",
      "Aditya_pupil_right\n",
      "Arshiya_pupil_right\n",
      "Atheesh_pupil_right\n",
      "bhasker_pupil_right\n",
      "Devendra_pupil_right\n",
      "Jake_pupil_right\n",
      "Jeff_pupil_right\n",
      "Nerav_pupil_right\n",
      "Pranav_pupil_right\n",
      "Prashant_pupil_right\n",
      "Rhonda_pupil_right\n",
      "Sufiya_pupil_right\n",
      "pranali_left\n",
      "pranali_right\n"
     ]
    }
   ],
   "source": [
    "for i in d:\n",
    "    print(i)"
   ]
  },
  {
   "cell_type": "code",
   "execution_count": 69,
   "id": "9e39e2fc",
   "metadata": {
    "scrolled": true
   },
   "outputs": [
    {
     "data": {
      "text/plain": [
       "48"
      ]
     },
     "execution_count": 69,
     "metadata": {},
     "output_type": "execute_result"
    }
   ],
   "source": [
    "sett=[]\n",
    "for i in d:\n",
    "#     ss= pd.Series(d[i]['r1'])\n",
    "#     print(i,(max(ss)-np.mean(ss))/np.std(ss))\n",
    "    lis = i.split(\"_\")\n",
    "    if len(lis)==4:\n",
    "        sett.append(i.split(\"_\")[0]+\"_\"+i.split(\"_\")[1])\n",
    "    else:\n",
    "        sett.append(i.split(\"_\")[0])\n",
    "sett=set(sett)\n",
    "len(sett)"
   ]
  },
  {
   "cell_type": "code",
   "execution_count": 109,
   "id": "b6d952c1",
   "metadata": {
    "scrolled": true
   },
   "outputs": [
    {
     "name": "stdout",
     "output_type": "stream",
     "text": [
      "pranali\n"
     ]
    }
   ],
   "source": [
    "f1=[]\n",
    "def point(per,s3):\n",
    "    return(round((s3.quantile(per)-np.mean(s3))/np.std(s3),3))\n",
    "for i in sett:\n",
    "    try:\n",
    "        s1 = pd.Series(d[i+\"_pupil_left\"]['r1'])\n",
    "        s2 = pd.Series(d[i+\"_pupil_left\"]['r2'])\n",
    "        s3 = (s1+s2)/2\n",
    "        l1 = [i.split(\"_\")[0].lower(),point(0,s3),point(0.1,s3),point(0.25,s3),point(0.5,s3),point(0.75,s3),point(0.9,s3),point(1,s3)]\n",
    "\n",
    "        s1 = pd.Series(d[i+\"_pupil_right\"]['r1'])\n",
    "        s2 = pd.Series(d[i+\"_pupil_right\"]['r2'])\n",
    "        s3 = (s1+s2)/2\n",
    "        l2 = [point(0,s3),point(0.1,s3),point(0.25,s3),point(0.5,s3),point(0.75,s3),point(0.9,s3),point(1,s3)]\n",
    "        l1.extend(l2)\n",
    "        f1.append(l1)\n",
    "    except:\n",
    "        print(i)\n",
    "s1 = pd.Series(d[\"pranali_left\"]['r1'])\n",
    "s2 = pd.Series(d[\"pranali_left\"]['r2'])\n",
    "s3 = (s1+s2)/2\n",
    "l1 = [\"pranali\",point(0,s3),point(0.1,s3),point(0.25,s3),point(0.5,s3),point(0.75,s3),point(0.9,s3),point(1,s3)]\n",
    "\n",
    "s1 = pd.Series(d[\"pranali_right\"]['r1'])\n",
    "s2 = pd.Series(d[\"pranali_right\"]['r2'])\n",
    "s3 = (s1+s2)/2\n",
    "l2 = [point(0,s3),point(0.1,s3),point(0.25,s3),point(0.5,s3),point(0.75,s3),point(0.9,s3),point(1,s3)]\n",
    "l1.extend(l2)\n",
    "f1.append(l1)"
   ]
  },
  {
   "cell_type": "code",
   "execution_count": 110,
   "id": "f90e3766",
   "metadata": {
    "scrolled": true
   },
   "outputs": [],
   "source": [
    "df1 = pd.DataFrame(f1,columns=[\"name\",\"l0\",\"l10\",\"l25\",\"l50\",\"l75\",\"l90\",\"l100\",\"r0\",\"r10\",\"r25\",\"r50\",\"r75\",\"r90\",\"r100\"])\n",
    "df1.to_csv(\"X:\\\\Eye_tracking_Processed_Raw_videos\\\\pupil_std_data.csv\",index=False)"
   ]
  },
  {
   "cell_type": "code",
   "execution_count": 106,
   "id": "18ccf792",
   "metadata": {},
   "outputs": [
    {
     "name": "stdout",
     "output_type": "stream",
     "text": [
      "pranali\n"
     ]
    }
   ],
   "source": [
    "f1=[]\n",
    "def point(per,s3):\n",
    "    return(round((s3.quantile(per)-np.min(s3))/np.min(s3),3))\n",
    "for i in sett:\n",
    "    try:\n",
    "        s1 = pd.Series(d[i+\"_pupil_left\"]['r1'])\n",
    "        s2 = pd.Series(d[i+\"_pupil_left\"]['r2'])\n",
    "        s3 = (s1+s2)/2\n",
    "        l1 = [i.split(\"_\")[0].lower(),point(0.1,s3),point(0.25,s3),point(0.5,s3),point(0.75,s3),point(0.9,s3),point(1,s3)]\n",
    "\n",
    "        s1 = pd.Series(d[i+\"_pupil_right\"]['r1'])\n",
    "        s2 = pd.Series(d[i+\"_pupil_right\"]['r2'])\n",
    "        s3 = (s1+s2)/2\n",
    "        l2 = [point(0.1,s3),point(0.25,s3),point(0.5,s3),point(0.75,s3),point(0.9,s3),point(1,s3)]\n",
    "        l1.extend(l2)\n",
    "        f1.append(l1)\n",
    "    except:\n",
    "        print(i)\n",
    "s1 = pd.Series(d[\"pranali_left\"]['r1'])\n",
    "s2 = pd.Series(d[\"pranali_left\"]['r2'])\n",
    "s3 = (s1+s2)/2\n",
    "l1 = [\"pranali\",point(0.1,s3),point(0.25,s3),point(0.5,s3),point(0.75,s3),point(0.9,s3),point(1,s3)]\n",
    "\n",
    "s1 = pd.Series(d[\"pranali_right\"]['r1'])\n",
    "s2 = pd.Series(d[\"pranali_right\"]['r2'])\n",
    "s3 = (s1+s2)/2\n",
    "l2 = [point(0.1,s3),point(0.25,s3),point(0.5,s3),point(0.75,s3),point(0.9,s3),point(1,s3)]\n",
    "l1.extend(l2)\n",
    "f1.append(l1)"
   ]
  },
  {
   "cell_type": "code",
   "execution_count": 108,
   "id": "372d6696",
   "metadata": {},
   "outputs": [],
   "source": [
    "df1 = pd.DataFrame(f1,columns=[\"name\",\"l10\",\"l25\",\"l50\",\"l75\",\"l90\",\"l100\",\"r10\",\"r25\",\"r50\",\"r75\",\"r90\",\"r100\"])\n",
    "df1.to_csv(\"X:\\\\Eye_tracking_Processed_Raw_videos\\\\pupil_min_data.csv\",index=False)"
   ]
  },
  {
   "cell_type": "code",
   "execution_count": null,
   "id": "c8227c1d",
   "metadata": {},
   "outputs": [],
   "source": []
  }
 ],
 "metadata": {
  "kernelspec": {
   "display_name": "Python 3",
   "language": "python",
   "name": "python3"
  },
  "language_info": {
   "codemirror_mode": {
    "name": "ipython",
    "version": 3
   },
   "file_extension": ".py",
   "mimetype": "text/x-python",
   "name": "python",
   "nbconvert_exporter": "python",
   "pygments_lexer": "ipython3",
   "version": "3.8.8"
  }
 },
 "nbformat": 4,
 "nbformat_minor": 5
}
